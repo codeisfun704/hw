{
 "cells": [
  {
   "cell_type": "code",
   "execution_count": 3,
   "id": "80246324-66d5-41c9-a741-cdac33a29532",
   "metadata": {
    "tags": []
   },
   "outputs": [],
   "source": [
    "def get_my_chosun_name(family_name,month,day):\n",
    "    x = ['쌍', '쇠', '복', '돌', '팽', '육', '쌍', '개', '칠', '갑', '삼', '방']\n",
    "    y = ['봉', '구', '욕', '포', '똥', '삼', '식', '석', '놈', '님', '년', '돌', '단', '득', '방', '질', '장', '걸', '래', '룡', '동', '순', '자', '박', '창', '언', '것', '포', '만', '단', '국']\n",
    "    result = family_name + x[month-1]+y[day-1]\n",
    "    return \"당신의 조선시대 이름은 \"+result+\" 입니다.\""
   ]
  },
  {
   "cell_type": "code",
   "execution_count": 5,
   "id": "f7a6e67d-34ce-4fad-b79a-9041f4c12505",
   "metadata": {
    "tags": []
   },
   "outputs": [
    {
     "data": {
      "text/plain": [
       "'당신의 조선시대 이름은 박육질 입니다.'"
      ]
     },
     "execution_count": 5,
     "metadata": {},
     "output_type": "execute_result"
    }
   ],
   "source": [
    "get_my_chosun_name('박', 6, 16)"
   ]
  },
  {
   "cell_type": "code",
   "execution_count": null,
   "id": "6e48b29d-0216-4ea6-91e6-777df41a59f7",
   "metadata": {},
   "outputs": [],
   "source": []
  }
 ],
 "metadata": {
  "kernelspec": {
   "display_name": "Python 3 (ipykernel)",
   "language": "python",
   "name": "python3"
  },
  "language_info": {
   "codemirror_mode": {
    "name": "ipython",
    "version": 3
   },
   "file_extension": ".py",
   "mimetype": "text/x-python",
   "name": "python",
   "nbconvert_exporter": "python",
   "pygments_lexer": "ipython3",
   "version": "3.11.4"
  }
 },
 "nbformat": 4,
 "nbformat_minor": 5
}
